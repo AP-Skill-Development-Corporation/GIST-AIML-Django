{
 "cells": [
  {
   "cell_type": "code",
   "execution_count": 2,
   "id": "3f3a7a3f",
   "metadata": {},
   "outputs": [
    {
     "name": "stdout",
     "output_type": "stream",
     "text": [
      "12345\n",
      "42\n"
     ]
    }
   ],
   "source": [
    "n=int(input())\n",
    "r=0\n",
    "while n!=0:\n",
    "    k = n%10\n",
    "    if k%2==0:\n",
    "        r = r*10+k\n",
    "#         print(k,end=\" \")\n",
    "    n //= 10\n",
    "print(r)"
   ]
  },
  {
   "cell_type": "code",
   "execution_count": 7,
   "id": "9ef72915",
   "metadata": {},
   "outputs": [
    {
     "name": "stdout",
     "output_type": "stream",
     "text": [
      "1 5 10\n",
      "16\n"
     ]
    }
   ],
   "source": [
    "n = [int(i) for i in input().split()]\n",
    "# print(n,type(n))\n",
    "print(sum(n))"
   ]
  },
  {
   "cell_type": "code",
   "execution_count": null,
   "id": "121d8fb3",
   "metadata": {},
   "outputs": [],
   "source": []
  }
 ],
 "metadata": {
  "kernelspec": {
   "display_name": "Python 3 (ipykernel)",
   "language": "python",
   "name": "python3"
  },
  "language_info": {
   "codemirror_mode": {
    "name": "ipython",
    "version": 3
   },
   "file_extension": ".py",
   "mimetype": "text/x-python",
   "name": "python",
   "nbconvert_exporter": "python",
   "pygments_lexer": "ipython3",
   "version": "3.9.13"
  }
 },
 "nbformat": 4,
 "nbformat_minor": 5
}
