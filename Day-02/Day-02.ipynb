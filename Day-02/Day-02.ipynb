{
 "cells": [
  {
   "cell_type": "code",
   "execution_count": 4,
   "id": "66be4a90",
   "metadata": {},
   "outputs": [],
   "source": [
    "class User():\n",
    "    def __init__(self,name,balance):\n",
    "        self.name=name\n",
    "        self.balance=balance\n",
    "class Bank():\n",
    "    def __init__(self,deposit,withdraw):\n",
    "        self.deposit=deposit\n",
    "        self.balance+=self.deposit\n",
    "        while(self.balance>0):\n",
    "            self.withdraw=withdraw\n",
    "            self.balance-=self.withdraw"
   ]
  },
  {
   "cell_type": "code",
   "execution_count": 5,
   "id": "294377fc",
   "metadata": {},
   "outputs": [],
   "source": [
    "a=User('pranai',400)"
   ]
  },
  {
   "cell_type": "code",
   "execution_count": 6,
   "id": "19c5b394",
   "metadata": {},
   "outputs": [
    {
     "data": {
      "text/plain": [
       "'pranai'"
      ]
     },
     "execution_count": 6,
     "metadata": {},
     "output_type": "execute_result"
    }
   ],
   "source": [
    "a.name"
   ]
  },
  {
   "cell_type": "code",
   "execution_count": null,
   "id": "bf293a6c",
   "metadata": {},
   "outputs": [],
   "source": []
  },
  {
   "cell_type": "code",
   "execution_count": null,
   "id": "0e17ee84",
   "metadata": {},
   "outputs": [],
   "source": []
  }
 ],
 "metadata": {
  "kernelspec": {
   "display_name": "Python 3 (ipykernel)",
   "language": "python",
   "name": "python3"
  },
  "language_info": {
   "codemirror_mode": {
    "name": "ipython",
    "version": 3
   },
   "file_extension": ".py",
   "mimetype": "text/x-python",
   "name": "python",
   "nbconvert_exporter": "python",
   "pygments_lexer": "ipython3",
   "version": "3.9.13"
  }
 },
 "nbformat": 4,
 "nbformat_minor": 5
}
